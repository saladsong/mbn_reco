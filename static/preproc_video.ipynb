{
 "cells": [
  {
   "cell_type": "code",
   "execution_count": 45,
   "metadata": {},
   "outputs": [],
   "source": [
    "import os"
   ]
  },
  {
   "cell_type": "code",
   "execution_count": 29,
   "metadata": {},
   "outputs": [],
   "source": [
    "## 동영상 파일명 변경\n",
    "\n",
    "def rename_video(folder=''):\n",
    "    dir_path = '../' + folder\n",
    "    file_names = os.listdir(dir_path)\n",
    "    \n",
    "    for name in file_names:\n",
    "        if (len(name) > 30) and (name[-3:] == 'mp4'):\n",
    "            src = os.path.join(dir_path, name)\n",
    "            #dst = name[:8] + name[-16:-8] + '.mp4'\n",
    "            dst = 'video' + name[-16:-8] + '.mp4'\n",
    "            dst = os.path.join(dir_path, dst)\n",
    "            #print(src, ' to ', dst)\n",
    "            os.rename(src, dst)\n",
    "    \n",
    "    return True"
   ]
  },
  {
   "cell_type": "code",
   "execution_count": 43,
   "metadata": {},
   "outputs": [
    {
     "name": "stdout",
     "output_type": "stream",
     "text": [
      "../samples/20161108205259_20_552_1140412_360.mp4  to  ../samples/video_1140412.mp4\n",
      "../samples/20161103205603_20_552_1140109_360.mp4  to  ../samples/video_1140109.mp4\n",
      "../samples/20160716210412_20_552_1131799_360.mp4  to  ../samples/video_1131799.mp4\n",
      "../samples/20161217204358_20_552_1143313_360.mp4  to  ../samples/video_1143313.mp4\n"
     ]
    },
    {
     "data": {
      "text/plain": [
       "True"
      ]
     },
     "execution_count": 43,
     "metadata": {},
     "output_type": "execute_result"
    }
   ],
   "source": [
    "## target path : /static/samples\n",
    "rename_video('samples')"
   ]
  },
  {
   "cell_type": "code",
   "execution_count": 12,
   "metadata": {},
   "outputs": [],
   "source": [
    "import cv2"
   ]
  },
  {
   "cell_type": "code",
   "execution_count": 39,
   "metadata": {},
   "outputs": [],
   "source": [
    "## 동영상 -> 썸네일 이미지 생성\n",
    "    \n",
    "def makeThumbnail(folder=''):\n",
    "    \n",
    "    dir_path = '../' + folder\n",
    "    file_names = os.listdir(dir_path)\n",
    "    \n",
    "    cnt = 0\n",
    "    for name in file_names:\n",
    "        if name[-4:] == '.mp4':\n",
    "            try:\n",
    "                videoObj = cv2.VideoCapture(name)\n",
    "                vid = name[-11:-4]\n",
    "                ret, frame = videoObj.read()\n",
    "                cv2.imwrite(\"thumb_%s.jpg\" % vid, frame)\n",
    "                cnt += 1\n",
    "            except:\n",
    "                pass\n",
    "    \n",
    "    print('made total ', cnt)\n",
    "    \n",
    "    return True"
   ]
  },
  {
   "cell_type": "code",
   "execution_count": 44,
   "metadata": {},
   "outputs": [
    {
     "name": "stdout",
     "output_type": "stream",
     "text": [
      "made total  22\n"
     ]
    },
    {
     "data": {
      "text/plain": [
       "True"
      ]
     },
     "execution_count": 44,
     "metadata": {},
     "output_type": "execute_result"
    }
   ],
   "source": [
    "makeThumbnail('samples')"
   ]
  },
  {
   "cell_type": "code",
   "execution_count": null,
   "metadata": {},
   "outputs": [],
   "source": []
  },
  {
   "cell_type": "code",
   "execution_count": null,
   "metadata": {},
   "outputs": [],
   "source": [
    "### for reference"
   ]
  },
  {
   "cell_type": "code",
   "execution_count": 36,
   "metadata": {},
   "outputs": [
    {
     "name": "stdout",
     "output_type": "stream",
     "text": [
      "video_1126204.mp4\n"
     ]
    }
   ],
   "source": [
    "path = '20160512204614_20_552_1126204_360.mp4'\n",
    "len(path)\n",
    "\n",
    "new_path = 'video' + path[-16:-8] + '.mp4'\n",
    "print(new_path)"
   ]
  },
  {
   "cell_type": "code",
   "execution_count": 31,
   "metadata": {},
   "outputs": [
    {
     "data": {
      "text/plain": [
       "'1126204'"
      ]
     },
     "execution_count": 31,
     "metadata": {},
     "output_type": "execute_result"
    }
   ],
   "source": [
    "new_path[-11:-4]"
   ]
  },
  {
   "cell_type": "code",
   "execution_count": null,
   "metadata": {},
   "outputs": [],
   "source": []
  }
 ],
 "metadata": {
  "kernelspec": {
   "display_name": "env_saladd",
   "language": "python",
   "name": "env_saladd"
  },
  "language_info": {
   "codemirror_mode": {
    "name": "ipython",
    "version": 3
   },
   "file_extension": ".py",
   "mimetype": "text/x-python",
   "name": "python",
   "nbconvert_exporter": "python",
   "pygments_lexer": "ipython3",
   "version": "3.7.7"
  }
 },
 "nbformat": 4,
 "nbformat_minor": 4
}
